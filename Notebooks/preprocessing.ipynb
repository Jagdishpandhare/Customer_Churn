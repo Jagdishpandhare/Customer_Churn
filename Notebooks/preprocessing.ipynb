{
 "cells": [
  {
   "cell_type": "markdown",
   "id": "f1def088",
   "metadata": {},
   "source": [
    "# Customer Churn Prediction – Data Preprocessing\n",
    "\n",
    "This notebook walks through the preprocessing pipeline for the Customer Churn dataset.  \n",
    "We will:\n",
    "- Load and clean the dataset\n",
    "- Encode categorical variables\n",
    "- Scale numeric features\n",
    "- Handle class imbalance with SMOTE\n",
    "- Split into train and test sets\n",
    "\n",
    "All steps are modularized in `preprocess.py`, and we'll call those functions here to ensure consistency between experiments and production.\n"
   ]
  },
  {
   "cell_type": "code",
   "execution_count": 4,
   "id": "32b3ac14",
   "metadata": {},
   "outputs": [],
   "source": [
    "import sys\n",
    "import os\n",
    "import pandas as pd\n",
    "\n",
    "# Get the root project directory (change the path accordingly)\n",
    "project_root = os.path.abspath(\"..\")  # if your notebook is in /notebooks and src is in the parent\n",
    "sys.path.append(project_root)\n",
    "\n",
    "# Now import functions from src\n",
    "from src.preprocess import load_data, clean_data, encode_features, scale_features, split_data\n"
   ]
  },
  {
   "cell_type": "markdown",
   "id": "1a8c2adf",
   "metadata": {},
   "source": [
    "We import all the preprocessing functions from `src/preprocess.py` to replicate the exact pipeline used during model training.\n"
   ]
  },
  {
   "cell_type": "code",
   "execution_count": null,
   "id": "6feda6b9",
   "metadata": {},
   "outputs": [],
   "source": []
  },
  {
   "cell_type": "markdown",
   "id": "7ced844b",
   "metadata": {},
   "source": [
    "# Data Preprocessing Notebook\n",
    "\n",
    "This notebook handles all the preprocessing steps required for modeling customer churn.\n",
    "\n",
    "### Objectives:\n",
    "- Load raw data\n",
    "- Clean and handle missing values\n",
    "- Encode categorical variables\n",
    "- Scale numerical features\n",
    "- Handle class imbalance using SMOTE\n",
    "- Split data into training and testing sets\n"
   ]
  },
  {
   "cell_type": "markdown",
   "id": "0ac4145e",
   "metadata": {},
   "source": [
    "## Step 1: Load the Data\n",
    "\n",
    "We begin by importing the raw dataset and checking for missing values or data type issues.\n"
   ]
  },
  {
   "cell_type": "markdown",
   "id": "b5ec5c6d",
   "metadata": {},
   "source": [
    "## Step 2: Clean the Data\n",
    "\n",
    "- Drop unnecessary columns (e.g., customerID)\n",
    "- Convert strings to proper formats\n",
    "- Handle missing or incorrect values\n",
    "- Drop duplicates if any\n"
   ]
  },
  {
   "cell_type": "markdown",
   "id": "92bf4a2a",
   "metadata": {},
   "source": [
    "## Step 3: Encode Categorical Features\n",
    "\n",
    "We use:\n",
    "- Label Encoding for binary or ordinal columns\n",
    "- Map target column \"Churn\" to 0 and 1\n"
   ]
  },
  {
   "cell_type": "markdown",
   "id": "528135ed",
   "metadata": {},
   "source": [
    "## Step 4: Scale Numerical Features\n",
    "\n",
    "Numerical columns are standardized using `StandardScaler` to normalize the scale and improve model performance.\n"
   ]
  },
  {
   "cell_type": "markdown",
   "id": "05b2193a",
   "metadata": {},
   "source": [
    "## Step 5: Handle Class Imbalance\n",
    "\n",
    "We use SMOTE (Synthetic Minority Over-sampling Technique) to balance the training dataset and improve classification of minority class (Churn = 1).\n"
   ]
  },
  {
   "cell_type": "markdown",
   "id": "8e339a8d",
   "metadata": {},
   "source": [
    "## Step 6: Train-Test Split\n",
    "\n",
    "We split the data using an 80/20 ratio with stratification to maintain class distribution.\n"
   ]
  },
  {
   "cell_type": "markdown",
   "id": "5a9f3be8",
   "metadata": {},
   "source": [
    "## Step 7: Save Preprocessed Data\n",
    "\n",
    "The training and testing sets are saved to CSV files for use in modeling and evaluation.\n"
   ]
  },
  {
   "cell_type": "markdown",
   "id": "fff88812",
   "metadata": {},
   "source": [
    "✅ Data preprocessing pipeline completed successfully.\n"
   ]
  }
 ],
 "metadata": {
  "kernelspec": {
   "display_name": "Python 3",
   "language": "python",
   "name": "python3"
  },
  "language_info": {
   "codemirror_mode": {
    "name": "ipython",
    "version": 3
   },
   "file_extension": ".py",
   "mimetype": "text/x-python",
   "name": "python",
   "nbconvert_exporter": "python",
   "pygments_lexer": "ipython3",
   "version": "3.13.2"
  }
 },
 "nbformat": 4,
 "nbformat_minor": 5
}
